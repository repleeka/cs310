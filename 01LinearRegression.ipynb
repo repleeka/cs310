{
 "cells": [
  {
   "cell_type": "markdown",
   "metadata": {},
   "source": [
    "##### **Linear Regression**\n",
    " - ###### ***Tungon Dugi (PhD NIT Arunachal Pradesh)***"
   ]
  },
  {
   "cell_type": "markdown",
   "metadata": {},
   "source": [
    "##### **Experiment no. 1:**\n",
    " - **Implement Simple Linear Regression and Multiple Linear Regression models. Select appropriate data set for your experiment and draw graphs.**"
   ]
  },
  {
   "cell_type": "markdown",
   "metadata": {},
   "source": [
    "##### ***Simple Linear Regression Model***\n",
    " - with only **one independent(X)** and **one dependent(Y)** variable\n",
    " - the model estimates the **Slope** and **intercept** of the line of best fit, which represents the relationship between the variables\n",
    " - it shows the linear relationship between the `independent variable(predictor)` i.e. `X-axis` and `dependent variable(output)` i.e. `Y-axis`.\n",
    "\n",
    " 1. **Slope** - represents the `change` in the `dependent varibale` for `each unit change` in `idependent variable`.\n",
    " 2. **Intercept** - represents the `predicted value` of the `dependent variable` when the `independent variable` is `zero`.\n",
    "\n",
    " - Mathematically,\n",
    "\n",
    "    ***y = mx + c***\n",
    "\n",
    "    where:\n",
    "    - \\( ***y*** \\) is the dependent variable (the variable we want to predict),\n",
    "    - \\( ***x*** \\) is the independent variable (the variable used for prediction),\n",
    "    - \\( ***m*** \\) is the slope of the regression line, representing the change in \\( ***y*** \\) for a unit change in \\( ***x*** \\),\n",
    "    - \\( ***c*** \\) is the y-intercept, the value of \\( ***y*** \\) when \\( ***x*** \\) is ***0***.\n"
   ]
  },
  {
   "cell_type": "markdown",
   "metadata": {},
   "source": [
    "##### ***Let's start by implementing a simple scatter plot using matplotlib***"
   ]
  },
  {
   "cell_type": "code",
   "execution_count": 493,
   "metadata": {},
   "outputs": [],
   "source": [
    "# importing the required library\n",
    "import matplotlib.pyplot as plt\n",
    "import numpy as np"
   ]
  },
  {
   "cell_type": "code",
   "execution_count": 494,
   "metadata": {},
   "outputs": [],
   "source": [
    "# generating random data using numpy\n",
    "# np.random.seed(42) # random seed for reproducibility\n",
    "# Generating 100 random values between 0 and 1\n",
    "X = 1*np.random.rand(100,1)\n",
    "#Generating corresponding Y-values with some random noise\n",
    "y = 4+3*X + np.random.rand(100,1) #here 4+3x is a linear equation"
   ]
  },
  {
   "cell_type": "code",
   "execution_count": 495,
   "metadata": {},
   "outputs": [
    {
     "data": {
      "image/png": "[encoded data removed]",
      "text/plain": [
       "<Figure size 640x480 with 1 Axes>"
      ]
     },
     "metadata": {},
     "output_type": "display_data"
    }
   ],
   "source": [
    "# plot the data on the graph\n",
    "plt.scatter(x=X,y=y)\n",
    "plt.show()"
   ]
  },
  {
   "cell_type": "markdown",
   "metadata": {},
   "source": [
    "##### ***Let's Draw regression line using Scipy library***"
   ]
  },
  {
   "cell_type": "code",
   "execution_count": 496,
   "metadata": {},
   "outputs": [],
   "source": [
    "from scipy import stats"
   ]
  },
  {
   "cell_type": "code",
   "execution_count": 497,
   "metadata": {},
   "outputs": [],
   "source": [
    "# slice the data points\n",
    "x_points = X[:,0]\n",
    "y_points = y[:,0]"
   ]
  },
  {
   "cell_type": "code",
   "execution_count": 498,
   "metadata": {},
   "outputs": [],
   "source": [
    "model = stats.linregress(x_points,y_points)"
   ]
  },
  {
   "cell_type": "code",
   "execution_count": 499,
   "metadata": {},
   "outputs": [
    {
     "data": {
      "text/plain": [
       "['__add__',\n",
       " '__class__',\n",
       " '__contains__',\n",
       " '__delattr__',\n",
       " '__dict__',\n",
       " '__dir__',\n",
       " '__doc__',\n",
       " '__eq__',\n",
       " '__format__',\n",
       " '__ge__',\n",
       " '__getattribute__',\n",
       " '__getitem__',\n",
       " '__getnewargs__',\n",
       " '__getnewargs_ex__',\n",
       " '__gt__',\n",
       " '__hash__',\n",
       " '__init__',\n",
       " '__init_subclass__',\n",
       " '__iter__',\n",
       " '__le__',\n",
       " '__len__',\n",
       " '__lt__',\n",
       " '__module__',\n",
       " '__mul__',\n",
       " '__ne__',\n",
       " '__new__',\n",
       " '__reduce__',\n",
       " '__reduce_ex__',\n",
       " '__repr__',\n",
       " '__rmul__',\n",
       " '__setattr__',\n",
       " '__sizeof__',\n",
       " '__str__',\n",
       " '__subclasshook__',\n",
       " '_asdict',\n",
       " '_extra_fields',\n",
       " '_fields',\n",
       " 'count',\n",
       " 'index',\n",
       " 'intercept',\n",
       " 'intercept_stderr',\n",
       " 'pvalue',\n",
       " 'rvalue',\n",
       " 'slope',\n",
       " 'stderr']"
      ]
     },
     "execution_count": 499,
     "metadata": {},
     "output_type": "execute_result"
    }
   ],
   "source": [
    "dir(model)"
   ]
  },
  {
   "cell_type": "code",
   "execution_count": 500,
   "metadata": {},
   "outputs": [
    {
     "name": "stdout",
     "output_type": "stream",
     "text": [
      "Slope Value: 3.2036010462249167\n",
      "Intercept Value: 4.416047384884394\n",
      "STD ERR: 0.10772649598043806\n",
      "r_value: 0.10772649598043806\n"
     ]
    }
   ],
   "source": [
    "# some important values of linear regression model\n",
    "# 1. Slope - represents the change in the dependent varibale for each unit change in idependent variable.\n",
    "# 2. Intercept - represents the predicted value of the dependent variable when the independent variable is zero.\n",
    "# 3. rvalue - coef of correlation of x-axis & y-axis - ranges from -1 to 1, where 0 means no relationship, and 1&-1 means 100% related\n",
    "# 4. stderr -   measures the precision of the estimates of the slope. lower means good\n",
    "# 5. intercept_stderr - measure the precision of the estimate of the intercept. lower means good\n",
    "slope = model.slope\n",
    "intercept = model.intercept\n",
    "rvalue = model.rvalue\n",
    "stderr = model.stderr\n",
    "intercept_stderr = model.intercept_stderr\n",
    "print(\"Slope Value: {}\".format(slope))\n",
    "print(\"Intercept Value: {}\".format(intercept))\n",
    "print(\"STD ERR: {}\".format(stderr))\n",
    "print(\"r_value: {}\".format(stderr))"
   ]
  },
  {
   "cell_type": "code",
   "execution_count": 501,
   "metadata": {},
   "outputs": [],
   "source": [
    "# now using slope and intercept make a regression function as\n",
    "def reg_func(independent_pts):\n",
    "    return slope*independent_pts+intercept"
   ]
  },
  {
   "cell_type": "code",
   "execution_count": 502,
   "metadata": {},
   "outputs": [],
   "source": [
    "new_pts = []\n",
    "# run each value of x_points through the function to generate new data points\n",
    "for x in x_points:\n",
    "    new_pts.append(reg_func(independent_pts=x))"
   ]
  },
  {
   "cell_type": "code",
   "execution_count": 503,
   "metadata": {},
   "outputs": [
    {
     "data": {
      "image/png": "[encoded data removed]",
      "text/plain": [
       "<Figure size 640x480 with 1 Axes>"
      ]
     },
     "metadata": {},
     "output_type": "display_data"
    }
   ],
   "source": [
    "# draw scatter plot\n",
    "plt.scatter(x_points,new_pts,alpha=0.5,label='Data')\n",
    "# to show red best fit line\n",
    "plt.plot(x_points,new_pts,color='red',label='Best-Fit line')\n",
    "plt.show()"
   ]
  },
  {
   "cell_type": "code",
   "execution_count": 504,
   "metadata": {},
   "outputs": [
    {
     "data": {
      "text/plain": [
       "5.0567675941293775"
      ]
     },
     "execution_count": 504,
     "metadata": {},
     "output_type": "execute_result"
    }
   ],
   "source": [
    "# let's predict some thing\n",
    "prediction = reg_func(0.2)\n",
    "prediction"
   ]
  },
  {
   "cell_type": "markdown",
   "metadata": {},
   "source": [
    "##### **Linear Regression using SkLearn**"
   ]
  },
  {
   "cell_type": "code",
   "execution_count": 505,
   "metadata": {},
   "outputs": [],
   "source": [
    "from sklearn.linear_model import LinearRegression"
   ]
  },
  {
   "cell_type": "code",
   "execution_count": 506,
   "metadata": {},
   "outputs": [],
   "source": [
    "# create regression model\n",
    "model = LinearRegression()"
   ]
  },
  {
   "cell_type": "code",
   "execution_count": 507,
   "metadata": {},
   "outputs": [
    {
     "data": {
      "text/html": [
       "<style>#sk-container-id-16 {color: black;background-color: white;}#sk-container-id-16 pre{padding: 0;}#sk-container-id-16 div.sk-toggleable {background-color: white;}#sk-container-id-16 label.sk-toggleable__label {cursor: pointer;display: block;width: 100%;margin-bottom: 0;padding: 0.3em;box-sizing: border-box;text-align: center;}#sk-container-id-16 label.sk-toggleable__label-arrow:before {content: \"▸\";float: left;margin-right: 0.25em;color: #696969;}#sk-container-id-16 label.sk-toggleable__label-arrow:hover:before {color: black;}#sk-container-id-16 div.sk-estimator:hover label.sk-toggleable__label-arrow:before {color: black;}#sk-container-id-16 div.sk-toggleable__content {max-height: 0;max-width: 0;overflow: hidden;text-align: left;background-color: #f0f8ff;}#sk-container-id-16 div.sk-toggleable__content pre {margin: 0.2em;color: black;border-radius: 0.25em;background-color: #f0f8ff;}#sk-container-id-16 input.sk-toggleable__control:checked~div.sk-toggleable__content {max-height: 200px;max-width: 100%;overflow: auto;}#sk-container-id-16 input.sk-toggleable__control:checked~label.sk-toggleable__label-arrow:before {content: \"▾\";}#sk-container-id-16 div.sk-estimator input.sk-toggleable__control:checked~label.sk-toggleable__label {background-color: #d4ebff;}#sk-container-id-16 div.sk-label input.sk-toggleable__control:checked~label.sk-toggleable__label {background-color: #d4ebff;}#sk-container-id-16 input.sk-hidden--visually {border: 0;clip: rect(1px 1px 1px 1px);clip: rect(1px, 1px, 1px, 1px);height: 1px;margin: -1px;overflow: hidden;padding: 0;position: absolute;width: 1px;}#sk-container-id-16 div.sk-estimator {font-family: monospace;background-color: #f0f8ff;border: 1px dotted black;border-radius: 0.25em;box-sizing: border-box;margin-bottom: 0.5em;}#sk-container-id-16 div.sk-estimator:hover {background-color: #d4ebff;}#sk-container-id-16 div.sk-parallel-item::after {content: \"\";width: 100%;border-bottom: 1px solid gray;flex-grow: 1;}#sk-container-id-16 div.sk-label:hover label.sk-toggleable__label {background-color: #d4ebff;}#sk-container-id-16 div.sk-serial::before {content: \"\";position: absolute;border-left: 1px solid gray;box-sizing: border-box;top: 0;bottom: 0;left: 50%;z-index: 0;}#sk-container-id-16 div.sk-serial {display: flex;flex-direction: column;align-items: center;background-color: white;padding-right: 0.2em;padding-left: 0.2em;position: relative;}#sk-container-id-16 div.sk-item {position: relative;z-index: 1;}#sk-container-id-16 div.sk-parallel {display: flex;align-items: stretch;justify-content: center;background-color: white;position: relative;}#sk-container-id-16 div.sk-item::before, #sk-container-id-16 div.sk-parallel-item::before {content: \"\";position: absolute;border-left: 1px solid gray;box-sizing: border-box;top: 0;bottom: 0;left: 50%;z-index: -1;}#sk-container-id-16 div.sk-parallel-item {display: flex;flex-direction: column;z-index: 1;position: relative;background-color: white;}#sk-container-id-16 div.sk-parallel-item:first-child::after {align-self: flex-end;width: 50%;}#sk-container-id-16 div.sk-parallel-item:last-child::after {align-self: flex-start;width: 50%;}#sk-container-id-16 div.sk-parallel-item:only-child::after {width: 0;}#sk-container-id-16 div.sk-dashed-wrapped {border: 1px dashed gray;margin: 0 0.4em 0.5em 0.4em;box-sizing: border-box;padding-bottom: 0.4em;background-color: white;}#sk-container-id-16 div.sk-label label {font-family: monospace;font-weight: bold;display: inline-block;line-height: 1.2em;}#sk-container-id-16 div.sk-label-container {text-align: center;}#sk-container-id-16 div.sk-container {/* jupyter's `normalize.less` sets `[hidden] { display: none; }` but bootstrap.min.css set `[hidden] { display: none !important; }` so we also need the `!important` here to be able to override the default hidden behavior on the sphinx rendered scikit-learn.org. See: https://github.com/scikit-learn/scikit-learn/issues/21755 */display: inline-block !important;position: relative;}#sk-container-id-16 div.sk-text-repr-fallback {display: none;}</style><div id=\"sk-container-id-16\" class=\"sk-top-container\"><div class=\"sk-text-repr-fallback\"><pre>LinearRegression()</pre><b>In a Jupyter environment, please rerun this cell to show the HTML representation or trust the notebook. <br />On GitHub, the HTML representation is unable to render, please try loading this page with nbviewer.org.</b></div><div class=\"sk-container\" hidden><div class=\"sk-item\"><div class=\"sk-estimator sk-toggleable\"><input class=\"sk-toggleable__control sk-hidden--visually\" id=\"sk-estimator-id-16\" type=\"checkbox\" checked><label for=\"sk-estimator-id-16\" class=\"sk-toggleable__label sk-toggleable__label-arrow\">LinearRegression</label><div class=\"sk-toggleable__content\"><pre>LinearRegression()</pre></div></div></div></div></div>"
      ],
      "text/plain": [
       "LinearRegression()"
      ]
     },
     "execution_count": 507,
     "metadata": {},
     "output_type": "execute_result"
    }
   ],
   "source": [
    "# fit the model to the data\n",
    "model.fit(X,y)"
   ]
  },
  {
   "cell_type": "code",
   "execution_count": 508,
   "metadata": {},
   "outputs": [],
   "source": [
    "# prediction\n",
    "y_pred = model.predict(X)"
   ]
  },
  {
   "cell_type": "code",
   "execution_count": 509,
   "metadata": {},
   "outputs": [
    {
     "name": "stdout",
     "output_type": "stream",
     "text": [
      "Slope value: 3.2036010462249163\n",
      "Intercept value: 4.416047384884394\n"
     ]
    }
   ],
   "source": [
    "# get slope and intercept\n",
    "slope = model.coef_[0][0]\n",
    "intercept = model.intercept_[0]\n",
    "# rvalue = model.score\n",
    "# stderr = model.rank_\n",
    "print(\"Slope value: {}\".format(slope))\n",
    "print(\"Intercept value: {}\".format(intercept))"
   ]
  },
  {
   "cell_type": "code",
   "execution_count": 510,
   "metadata": {},
   "outputs": [],
   "source": [
    "# now using slope and intercept make a regression function as\n",
    "def reg_func(independent_pts):\n",
    "    return slope*independent_pts+intercept"
   ]
  },
  {
   "cell_type": "code",
   "execution_count": 511,
   "metadata": {},
   "outputs": [],
   "source": [
    "new_pts = []\n",
    "# run each value of x_points through the function to generate new data points\n",
    "for x in x_points:\n",
    "    new_pts.append(reg_func(independent_pts=x))"
   ]
  },
  {
   "cell_type": "code",
   "execution_count": 512,
   "metadata": {},
   "outputs": [
    {
     "data": {
      "image/png": "[encoded data removed]",
      "text/plain": [
       "<Figure size 640x480 with 1 Axes>"
      ]
     },
     "metadata": {},
     "output_type": "display_data"
    }
   ],
   "source": [
    "plt.scatter(X,y,alpha=0.5,label='Data')\n",
    "plt.plot(X,new_pts,color='red')\n",
    "plt.show()"
   ]
  },
  {
   "cell_type": "code",
   "execution_count": 513,
   "metadata": {},
   "outputs": [
    {
     "name": "stdout",
     "output_type": "stream",
     "text": [
      "5.0567675941293775\n"
     ]
    }
   ],
   "source": [
    "df = np.array([[0.2]])\n",
    "pred =  model.predict(df)\n",
    "print(pred[0][0])"
   ]
  },
  {
   "cell_type": "markdown",
   "metadata": {},
   "source": [
    "##### ***Accuracy Assesments***\n",
    "\n",
    " - In regression, common evaluation metrics include \n",
    "   - Mean Absolute Error (MAE), \n",
    "   - Mean Squared Error (MSE), and \n",
    "   - R-squared"
   ]
  },
  {
   "cell_type": "code",
   "execution_count": 514,
   "metadata": {},
   "outputs": [],
   "source": [
    "from sklearn.metrics import mean_absolute_error, mean_squared_error, r2_score"
   ]
  },
  {
   "cell_type": "code",
   "execution_count": 519,
   "metadata": {},
   "outputs": [
    {
     "name": "stdout",
     "output_type": "stream",
     "text": [
      "Mean Abs. Error: 26.9676954066078\n",
      "Mean Sq. Error: 9.695743829526977\n",
      "R-Value: 90.02407951064842\n"
     ]
    }
   ],
   "source": [
    "# calculate the evaluation metrics\n",
    "mae = mean_absolute_error(y,y_pred)\n",
    "mse = mean_squared_error(y,y_pred)\n",
    "r_score = r2_score(y,y_pred)\n",
    "print(\"Mean Abs. Error: {}\\nMean Sq. Error: {}\\nR-Value: {}\".format(mae*100,mse*100,r_score*100))"
   ]
  }
 ],
 "metadata": {
  "kernelspec": {
   "display_name": "ml",
   "language": "python",
   "name": "python3"
  },
  "language_info": {
   "codemirror_mode": {
    "name": "ipython",
    "version": 3
   },
   "file_extension": ".py",
   "mimetype": "text/x-python",
   "name": "python",
   "nbconvert_exporter": "python",
   "pygments_lexer": "ipython3",
   "version": "3.8.12"
  }
 },
 "nbformat": 4,
 "nbformat_minor": 2
}
