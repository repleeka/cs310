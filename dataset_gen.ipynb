{
 "cells": [
  {
   "cell_type": "code",
   "execution_count": 3,
   "metadata": {},
   "outputs": [
    {
     "name": "stdout",
     "output_type": "stream",
     "text": [
      "   Pregnancies  Glucose  BloodPressure  SkinThickness  Insulin        BMI  \\\n",
      "0            6      100            103             47      117  44.902754   \n",
      "1            3      130            115             32      375  39.492200   \n",
      "2           12      182             87             31       58  38.350820   \n",
      "3           10       78            138             28       32  23.818520   \n",
      "4            7      181             65             12      317  27.072191   \n",
      "\n",
      "   DiabetesPedigreeFunction  Age  Outcome  \n",
      "0                  1.065337   38        0  \n",
      "1                  1.225096   43        0  \n",
      "2                  1.793525   22        1  \n",
      "3                  2.313261   32        0  \n",
      "4                  0.440786   42        1  \n"
     ]
    }
   ],
   "source": [
    "import numpy as np\n",
    "import pandas as pd\n",
    "\n",
    "# Set the random seed for reproducibility\n",
    "np.random.seed(42)\n",
    "\n",
    "# Define the number of samples\n",
    "num_samples = 1000\n",
    "\n",
    "# Generate synthetic data for each column\n",
    "pregnancies = np.random.randint(0, 14, size=num_samples)\n",
    "glucose = np.random.randint(50, 200, size=num_samples)\n",
    "blood_pressure = np.random.randint(60, 140, size=num_samples)\n",
    "skin_thickness = np.random.randint(10, 50, size=num_samples)\n",
    "insulin = np.random.randint(0, 400, size=num_samples)\n",
    "bmi = np.random.uniform(18, 45, size=num_samples)\n",
    "diabetes_pedigree_function = np.random.uniform(0.1, 2.5, size=num_samples)\n",
    "age = np.random.randint(21, 80, size=num_samples)\n",
    "outcome = np.random.randint(0, 2, size=num_samples)  # 0 or 1\n",
    "\n",
    "# Create a DataFrame using the generated data\n",
    "data = pd.DataFrame({\n",
    "    'Pregnancies': pregnancies,\n",
    "    'Glucose': glucose,\n",
    "    'BloodPressure': blood_pressure,\n",
    "    'SkinThickness': skin_thickness,\n",
    "    'Insulin': insulin,\n",
    "    'BMI': bmi,\n",
    "    'DiabetesPedigreeFunction': diabetes_pedigree_function,\n",
    "    'Age': age,\n",
    "    'Outcome': outcome\n",
    "})\n",
    "\n",
    "# Display the first few rows of the dataset\n",
    "print(data.head())\n",
    "# save the dataset in csv format\n",
    "data.to_csv(\"new_data.csv\",index=False)"
   ]
  }
 ],
 "metadata": {
  "kernelspec": {
   "display_name": "tungonml",
   "language": "python",
   "name": "python3"
  },
  "language_info": {
   "codemirror_mode": {
    "name": "ipython",
    "version": 3
   },
   "file_extension": ".py",
   "mimetype": "text/x-python",
   "name": "python",
   "nbconvert_exporter": "python",
   "pygments_lexer": "ipython3",
   "version": "3.10.13"
  }
 },
 "nbformat": 4,
 "nbformat_minor": 2
}
