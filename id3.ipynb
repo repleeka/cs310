{
 "cells": [
  {
   "cell_type": "markdown",
   "metadata": {},
   "source": [
    "## **ID3: Iterative Dichotomiser 3**"
   ]
  },
  {
   "cell_type": "markdown",
   "metadata": {},
   "source": [
    "###### ***Author: Tungon Dugi(PhD NIT AR)***"
   ]
  },
  {
   "cell_type": "markdown",
   "metadata": {},
   "source": [
    "##### **Experiment no. ?:**\n",
    " - **Write a program to demonstrate the working of the decision tree based ID3 algorithm. Use an appropriate data set for building the decision tree and apply this knowledge to classify a new sample.**"
   ]
  },
  {
   "cell_type": "markdown",
   "metadata": {},
   "source": [
    "#### ***Dataset name: Play Tennis***\n",
    " - ***available on Kaggle:👉https://www.kaggle.com/tareqjoy/trainplaytennis***"
   ]
  },
  {
   "cell_type": "code",
   "execution_count": 213,
   "metadata": {},
   "outputs": [],
   "source": [
    "# importing the required libraries\n",
    "import pandas as pd # for manupulating csv file\n",
    "import numpy as np # for mathematical calculations\n",
    "# from sklearn.tree import DecisionTreeClassifier"
   ]
  },
  {
   "cell_type": "markdown",
   "metadata": {},
   "source": [
    "##### **1. Reading and loading the dataset**\n",
    " - **We are going to read the dataset (csv file) and load it into pandas dataframe.**\n",
    " - **You can see below, ***df*** is our dataframe.**\n",
    " - **With the ***head()*** method of the dataframe we can view the first 5 rows.**"
   ]
  },
  {
   "cell_type": "code",
   "execution_count": 214,
   "metadata": {},
   "outputs": [
    {
     "data": {
      "text/plain": [
       "<bound method NDFrame.head of      Outlook Temperature Humidity  Windy Play Tennis\n",
       "0      Rainy        Cool     High  False          No\n",
       "1      Rainy         Hot   Normal  False         Yes\n",
       "2      Rainy        Mild     High  False         Yes\n",
       "3   Overcast        Mild   Normal  False          No\n",
       "4      Rainy         Hot     High   True          No\n",
       "5      Sunny        Cool   Normal   True          No\n",
       "6      Rainy        Cool     High  False          No\n",
       "7   Overcast        Cool   Normal  False          No\n",
       "8      Rainy         Hot   Normal  False         Yes\n",
       "9      Rainy         Hot     High   True         Yes\n",
       "10     Sunny        Cool     High   True         Yes\n",
       "11     Rainy        Mild     High   True         Yes>"
      ]
     },
     "execution_count": 214,
     "metadata": {},
     "output_type": "execute_result"
    }
   ],
   "source": [
    "df = pd.read_csv('play_tennis.csv')\n",
    "df.head"
   ]
  },
  {
   "cell_type": "code",
   "execution_count": 215,
   "metadata": {},
   "outputs": [
    {
     "data": {
      "text/plain": [
       "No     6\n",
       "Yes    6\n",
       "Name: Play Tennis, dtype: int64"
      ]
     },
     "execution_count": 215,
     "metadata": {},
     "output_type": "execute_result"
    }
   ],
   "source": [
    "play_counts = df['Play Tennis'].value_counts()\n",
    "play_counts"
   ]
  },
  {
   "cell_type": "markdown",
   "metadata": {},
   "source": [
    "##### **2. Calculating the entropy of the whole dataset**\n",
    "\n",
    "***Total row = 12***\n",
    " - ***Row with \"Yes\" = 6***\n",
    " - ***Row with \"No\" = 6***\n",
    " - ***Complete entropy of the dataset is:***\n",
    "    - ***H(s) = -p(Yes) * log(p(Yes)) - p(No) * log(p(No))***\n",
    "         - ***= -(6/12) * log(6/12) - (6/12) * log(6/12)***\n",
    "         - ***= 1***"
   ]
  },
  {
   "cell_type": "markdown",
   "metadata": {},
   "source": [
    "##### **3. Calculating entropy of the feature Outlook**:\n",
    " - ***Categorical values of Outlook - Sunny, Overcast and Rain***\n",
    "   - ***Total count of row containing:***\n",
    "     - ***Sunny = 2***\n",
    "     - ***Sunny & Yes = 1***\n",
    "     - ***Sunny & No = 1***\n",
    "   - ***H(Outlook=Sunny) = -(1/2)xlog(1/2)-(1/2)xlog(1/2) = 1***\n",
    "   - ***Total count of row containing:***  \n",
    "     - ***Rain = 8***\n",
    "     - ***Rain & Yes = 5***\n",
    "     - ***Rain & No = 3***\n",
    "   -  ***H(Outlook=Rain) = -(5/8)xlog(5/8)-(3/8)xlog(3/8) = 0.6858***\n",
    "   - ***Total count of row containing:***  \n",
    "     - ***Overcast = 2***\n",
    "     - ***Overcast & Yes = 0***\n",
    "     - ***Overcast & No = 2***\n",
    "   - ***H(Outlook=Overcast) = -(0/2)xlog(0/2)-(2/2)xlog(2/2) = 0***\n",
    "\n",
    "**Note**: ***We have to do the same for all features like Wind, Humidity etc.***\n"
   ]
  },
  {
   "cell_type": "markdown",
   "metadata": {},
   "source": [
    "##### **4. Calculating information gain for a feature**\n",
    " - After calculating entropy, we have to calculate the information gain of that feature. \n",
    "   - In math, first, we have to calculate the information of that feature like this: (for the feature Outlook)\n",
    "\n",
    "\n",
    "   - ***I(Outlook) = p(Sunny) * H(Outlook=Sunny) + p(Rain) * H(Outlook=Rain) + p(Overcast) * H(Outlook=Overcast)***\n",
    "      - ***= (2/12) x 1 + (8/12) x 0.6858 + (2/12)***\n",
    "      - ***= 0.6239***\n",
    " - Then, we have to subtract this from the total entropy of the dataset which is the information gain of the feature.\n",
    "      - ***Information Gain = H(S) - I(Outlook)***\n",
    "        - = ***1 - 0.6239***\n",
    "        - = ***0.3761***"
   ]
  },
  {
   "cell_type": "markdown",
   "metadata": {},
   "source": [
    "##### **5. Finding the most informative feature (feature with highest information gain)**\n",
    "\n",
    " - ***Like Outlook feature, We have to calculate information gain for every feature in the dataset.***\n",
    " - ***Then we have to select the feature with the highest information gain.*** \n",
    " - ***After calculating mathematically we will find the values like below***:\n",
    "\n",
    " - ***Information gain***:\n",
    "   - ***Outlook = 0.2467 (Highest value)***\n",
    "   - ***Temperature = 0.0292***\n",
    "   - ***Humidity = 0.1518***\n",
    "   - ***Wind = 0.0481***\n",
    "\n",
    "**As the feature Outlook has the highest value, so it will be selected for our tree node.**"
   ]
  },
  {
   "cell_type": "markdown",
   "metadata": {},
   "source": [
    "##### **6. Python implementation for above calculation**"
   ]
  },
  {
   "cell_type": "code",
   "execution_count": 216,
   "metadata": {},
   "outputs": [
    {
     "name": "stdout",
     "output_type": "stream",
     "text": [
      "{'Temperature': {'Cool': {'Outlook': {'Rainy': 'No', 'Sunny': {'Humidity': {'Normal': 'No', 'High': 'Yes'}}, 'Overcast': 'No'}}, 'Hot': {'Humidity': {'Normal': 'Yes', 'High': {'Outlook': {'Rainy': {'Windy': {True: 'No'}}}}}}, 'Mild': {'Outlook': {'Rainy': 'Yes', 'Overcast': 'No'}}}}\n"
     ]
    }
   ],
   "source": [
    "import pandas as pd\n",
    "import numpy as np\n",
    "\n",
    "\n",
    "def calc_entropy(data, label):\n",
    "    class_counts = data[label].value_counts()\n",
    "    total_instances = len(data)\n",
    "    entropy = 0\n",
    "\n",
    "    for count in class_counts:\n",
    "        probability = count / total_instances\n",
    "        entropy -= probability * np.log2(probability)\n",
    "\n",
    "    return entropy\n",
    "\n",
    "\n",
    "def calc_info_gain(data, feature, label):\n",
    "    total_entropy = calc_entropy(data, label)\n",
    "    feature_values = data[feature].unique()\n",
    "    weighted_entropy = 0\n",
    "\n",
    "    for value in feature_values:\n",
    "        subset = data[data[feature] == value]\n",
    "        subset_entropy = calc_entropy(subset, label)\n",
    "        probability = len(subset) / len(data)\n",
    "        weighted_entropy += probability * subset_entropy\n",
    "\n",
    "    return total_entropy - weighted_entropy\n",
    "\n",
    "\n",
    "def id3(data, features, label):\n",
    "    # Base case: If all instances have the same class, return a leaf node with that class\n",
    "    if len(data[label].unique()) == 1:\n",
    "        return data[label].iloc[0]\n",
    "\n",
    "    # Base case: If there are no features left to split on, return the majority class\n",
    "    if len(features) == 0:\n",
    "        return data[label].mode().iloc[0]\n",
    "\n",
    "    # Choose the best feature to split on based on information gain\n",
    "    info_gains = [calc_info_gain(data, feature, label) for feature in features]\n",
    "    best_feature_index = np.argmax(info_gains)\n",
    "    best_feature = features[best_feature_index]\n",
    "\n",
    "    # Create a tree node with the best feature\n",
    "    tree = {best_feature: {}}\n",
    "\n",
    "    # Remove the chosen feature from the list of available features\n",
    "    remaining_features = [\n",
    "        feature for feature in features if feature != best_feature]\n",
    "\n",
    "    # Recursively build the tree for each value of the chosen feature\n",
    "    for value in data[best_feature].unique():\n",
    "        subset = data[data[best_feature] == value]\n",
    "        tree[best_feature][value] = id3(subset, remaining_features, label)\n",
    "\n",
    "    return tree\n",
    "\n",
    "# List of features (excluding the target variable 'Play Tennis')\n",
    "features = ['Outlook', 'Temperature', 'Humidity', 'Windy']\n",
    "\n",
    "# Build the decision tree using ID3 algorithm\n",
    "decision_tree = id3(df, features, 'Play Tennis')\n",
    "\n",
    "# Print the resulting decision tree\n",
    "print(decision_tree)"
   ]
  },
  {
   "cell_type": "code",
   "execution_count": 217,
   "metadata": {},
   "outputs": [
    {
     "data": {
      "text/plain": [
       "dict"
      ]
     },
     "execution_count": 217,
     "metadata": {},
     "output_type": "execute_result"
    }
   ],
   "source": [
    "type(decision_tree)"
   ]
  },
  {
   "cell_type": "markdown",
   "metadata": {},
   "source": [
    "##### **6. Implementing using ID3 algorithm in SkLearn**\n",
    "\n",
    " - the ID3 (Iterative Dichotomiser 3) algorithm, can be considered as feature selection algorithms. \n",
    " - Feature selection refers to the process of selecting a subset of relevant features from the original set of features in a dataset\n",
    " - The goal is to choose the most informative features that contribute the most to the prediction or classification task.\n",
    "\n",
    " - In the context of decision tree algorithms like ID3, feature selection is an integral part of the tree-building process.\n",
    " - The algorithm selects features for splitting nodes based on criteria such as information gain (for classification problems) or reduction in mean squared error (for regression problems)."
   ]
  },
  {
   "cell_type": "code",
   "execution_count": 218,
   "metadata": {},
   "outputs": [],
   "source": [
    "from sklearn.tree import DecisionTreeClassifier\n",
    "from sklearn.model_selection import train_test_split\n",
    "from sklearn.preprocessing import LabelEncoder\n",
    "from sklearn import metrics"
   ]
  },
  {
   "cell_type": "code",
   "execution_count": 219,
   "metadata": {},
   "outputs": [
    {
     "data": {
      "text/html": [
       "<div>\n",
       "<style scoped>\n",
       "    .dataframe tbody tr th:only-of-type {\n",
       "        vertical-align: middle;\n",
       "    }\n",
       "\n",
       "    .dataframe tbody tr th {\n",
       "        vertical-align: top;\n",
       "    }\n",
       "\n",
       "    .dataframe thead th {\n",
       "        text-align: right;\n",
       "    }\n",
       "</style>\n",
       "<table border=\"1\" class=\"dataframe\">\n",
       "  <thead>\n",
       "    <tr style=\"text-align: right;\">\n",
       "      <th></th>\n",
       "      <th>Outlook</th>\n",
       "      <th>Temperature</th>\n",
       "      <th>Humidity</th>\n",
       "      <th>Windy</th>\n",
       "      <th>Play Tennis</th>\n",
       "    </tr>\n",
       "  </thead>\n",
       "  <tbody>\n",
       "    <tr>\n",
       "      <th>0</th>\n",
       "      <td>Rainy</td>\n",
       "      <td>Cool</td>\n",
       "      <td>High</td>\n",
       "      <td>False</td>\n",
       "      <td>No</td>\n",
       "    </tr>\n",
       "    <tr>\n",
       "      <th>1</th>\n",
       "      <td>Rainy</td>\n",
       "      <td>Hot</td>\n",
       "      <td>Normal</td>\n",
       "      <td>False</td>\n",
       "      <td>Yes</td>\n",
       "    </tr>\n",
       "    <tr>\n",
       "      <th>2</th>\n",
       "      <td>Rainy</td>\n",
       "      <td>Mild</td>\n",
       "      <td>High</td>\n",
       "      <td>False</td>\n",
       "      <td>Yes</td>\n",
       "    </tr>\n",
       "    <tr>\n",
       "      <th>3</th>\n",
       "      <td>Overcast</td>\n",
       "      <td>Mild</td>\n",
       "      <td>Normal</td>\n",
       "      <td>False</td>\n",
       "      <td>No</td>\n",
       "    </tr>\n",
       "    <tr>\n",
       "      <th>4</th>\n",
       "      <td>Rainy</td>\n",
       "      <td>Hot</td>\n",
       "      <td>High</td>\n",
       "      <td>True</td>\n",
       "      <td>No</td>\n",
       "    </tr>\n",
       "  </tbody>\n",
       "</table>\n",
       "</div>"
      ],
      "text/plain": [
       "    Outlook Temperature Humidity  Windy Play Tennis\n",
       "0     Rainy        Cool     High  False          No\n",
       "1     Rainy         Hot   Normal  False         Yes\n",
       "2     Rainy        Mild     High  False         Yes\n",
       "3  Overcast        Mild   Normal  False          No\n",
       "4     Rainy         Hot     High   True          No"
      ]
     },
     "execution_count": 219,
     "metadata": {},
     "output_type": "execute_result"
    }
   ],
   "source": [
    "df.head()"
   ]
  },
  {
   "cell_type": "markdown",
   "metadata": {},
   "source": [
    "##### **a. Label Encoding for categorical features**\n",
    " - ***Label encoding is converting categories (like Rainy or Overcast, Cool or Hot, etc.) into numbers, making it easier for machine learning algorithms to understand and work with them.***\n",
    " - ***Categorical features are variables that represent different groups or types of data.***\n",
    "\n",
    " 1. **Outlook**: Categorical feature representing different weather conditions (Rainy, Overcast, Sunny).\n",
    " 2. **Temperature**: Categorical feature representing different temperature levels (Cool, Hot, Mild).\n",
    " 3. **Humidity**: Categorical feature representing humidity levels (High, Normal).\n",
    " 4. **Windy**: Categorical feature indicating whether it is windy or not (False, True).\n",
    " 5. **Play Tennis**: Categorical target variable indicating whether tennis is played or not (No, Yes).\n",
    "\n",
    "These features have discrete and distinct categories, and they are not numeric in nature. They need to be encoded into a numerical format for machine learning algorithms to process them effectively."
   ]
  },
  {
   "cell_type": "code",
   "execution_count": 220,
   "metadata": {},
   "outputs": [
    {
     "data": {
      "text/html": [
       "<div>\n",
       "<style scoped>\n",
       "    .dataframe tbody tr th:only-of-type {\n",
       "        vertical-align: middle;\n",
       "    }\n",
       "\n",
       "    .dataframe tbody tr th {\n",
       "        vertical-align: top;\n",
       "    }\n",
       "\n",
       "    .dataframe thead th {\n",
       "        text-align: right;\n",
       "    }\n",
       "</style>\n",
       "<table border=\"1\" class=\"dataframe\">\n",
       "  <thead>\n",
       "    <tr style=\"text-align: right;\">\n",
       "      <th></th>\n",
       "      <th>Outlook</th>\n",
       "      <th>Temperature</th>\n",
       "      <th>Humidity</th>\n",
       "      <th>Windy</th>\n",
       "      <th>Play Tennis</th>\n",
       "    </tr>\n",
       "  </thead>\n",
       "  <tbody>\n",
       "    <tr>\n",
       "      <th>0</th>\n",
       "      <td>1</td>\n",
       "      <td>0</td>\n",
       "      <td>0</td>\n",
       "      <td>0</td>\n",
       "      <td>0</td>\n",
       "    </tr>\n",
       "    <tr>\n",
       "      <th>1</th>\n",
       "      <td>1</td>\n",
       "      <td>1</td>\n",
       "      <td>1</td>\n",
       "      <td>0</td>\n",
       "      <td>1</td>\n",
       "    </tr>\n",
       "    <tr>\n",
       "      <th>2</th>\n",
       "      <td>1</td>\n",
       "      <td>2</td>\n",
       "      <td>0</td>\n",
       "      <td>0</td>\n",
       "      <td>1</td>\n",
       "    </tr>\n",
       "    <tr>\n",
       "      <th>3</th>\n",
       "      <td>0</td>\n",
       "      <td>2</td>\n",
       "      <td>1</td>\n",
       "      <td>0</td>\n",
       "      <td>0</td>\n",
       "    </tr>\n",
       "    <tr>\n",
       "      <th>4</th>\n",
       "      <td>1</td>\n",
       "      <td>1</td>\n",
       "      <td>0</td>\n",
       "      <td>1</td>\n",
       "      <td>0</td>\n",
       "    </tr>\n",
       "    <tr>\n",
       "      <th>5</th>\n",
       "      <td>2</td>\n",
       "      <td>0</td>\n",
       "      <td>1</td>\n",
       "      <td>1</td>\n",
       "      <td>0</td>\n",
       "    </tr>\n",
       "    <tr>\n",
       "      <th>6</th>\n",
       "      <td>1</td>\n",
       "      <td>0</td>\n",
       "      <td>0</td>\n",
       "      <td>0</td>\n",
       "      <td>0</td>\n",
       "    </tr>\n",
       "    <tr>\n",
       "      <th>7</th>\n",
       "      <td>0</td>\n",
       "      <td>0</td>\n",
       "      <td>1</td>\n",
       "      <td>0</td>\n",
       "      <td>0</td>\n",
       "    </tr>\n",
       "    <tr>\n",
       "      <th>8</th>\n",
       "      <td>1</td>\n",
       "      <td>1</td>\n",
       "      <td>1</td>\n",
       "      <td>0</td>\n",
       "      <td>1</td>\n",
       "    </tr>\n",
       "    <tr>\n",
       "      <th>9</th>\n",
       "      <td>1</td>\n",
       "      <td>1</td>\n",
       "      <td>0</td>\n",
       "      <td>1</td>\n",
       "      <td>1</td>\n",
       "    </tr>\n",
       "    <tr>\n",
       "      <th>10</th>\n",
       "      <td>2</td>\n",
       "      <td>0</td>\n",
       "      <td>0</td>\n",
       "      <td>1</td>\n",
       "      <td>1</td>\n",
       "    </tr>\n",
       "    <tr>\n",
       "      <th>11</th>\n",
       "      <td>1</td>\n",
       "      <td>2</td>\n",
       "      <td>0</td>\n",
       "      <td>1</td>\n",
       "      <td>1</td>\n",
       "    </tr>\n",
       "  </tbody>\n",
       "</table>\n",
       "</div>"
      ],
      "text/plain": [
       "    Outlook  Temperature  Humidity  Windy  Play Tennis\n",
       "0         1            0         0      0            0\n",
       "1         1            1         1      0            1\n",
       "2         1            2         0      0            1\n",
       "3         0            2         1      0            0\n",
       "4         1            1         0      1            0\n",
       "5         2            0         1      1            0\n",
       "6         1            0         0      0            0\n",
       "7         0            0         1      0            0\n",
       "8         1            1         1      0            1\n",
       "9         1            1         0      1            1\n",
       "10        2            0         0      1            1\n",
       "11        1            2         0      1            1"
      ]
     },
     "execution_count": 220,
     "metadata": {},
     "output_type": "execute_result"
    }
   ],
   "source": [
    "# Label encoding for categorical features\n",
    "label_encoder = LabelEncoder()\n",
    "df_encoded = df.apply(label_encoder.fit_transform)\n",
    "df_encoded"
   ]
  },
  {
   "cell_type": "markdown",
   "metadata": {},
   "source": [
    "##### **b. Separate features and target variable**\n",
    " - In the given dataset, the features are the columns ***'Outlook'***, ***'Temperature'***, ***'Humidity'***, and ***'Windy'***, while the target variable is the column ***'Play Tennis'***. \n",
    "  - The goal is to separate these features and the target variable.\n"
   ]
  },
  {
   "cell_type": "code",
   "execution_count": 221,
   "metadata": {},
   "outputs": [],
   "source": [
    "# Separate features and target variable\n",
    "X = df_encoded.drop('Play Tennis', axis=1)\n",
    "y = df_encoded['Play Tennis']"
   ]
  },
  {
   "cell_type": "markdown",
   "metadata": {},
   "source": [
    "##### **c. Splitting the Dataset into Training and Testing dataset**\n",
    " - ***test_size*** is a parameter that defines the proportion of the dataset to include in the testing split. \n",
    " - ***random_state*** is an optional parameter that controls the randomness of the data splitting. When you set random_state to a specific value (e.g., an integer), it ensures reproducibility. The same random split will be obtained if you use the same random seed.\n",
    "  - If you omit ***random_state*** or set it to `None`, the split will be different every time you run the code.\n",
    "  - Also ***random_state*** value greatly affects the accuracy of the model"
   ]
  },
  {
   "cell_type": "code",
   "execution_count": 222,
   "metadata": {},
   "outputs": [],
   "source": [
    "# Split the dataset into training and testing sets\n",
    "X_train, X_test, y_train, y_test = train_test_split(\n",
    "    X, y, test_size=0.2, random_state=1234)"
   ]
  },
  {
   "cell_type": "markdown",
   "metadata": {},
   "source": [
    "##### **d. Model creation**"
   ]
  },
  {
   "cell_type": "code",
   "execution_count": 223,
   "metadata": {},
   "outputs": [],
   "source": [
    "# Create a decision tree classifier with the \"entropy\" criterion\n",
    "dt_classifier = DecisionTreeClassifier(criterion='entropy')"
   ]
  },
  {
   "cell_type": "markdown",
   "metadata": {},
   "source": [
    "##### **e. Training**"
   ]
  },
  {
   "cell_type": "code",
   "execution_count": 224,
   "metadata": {},
   "outputs": [
    {
     "data": {
      "text/html": [
       "<style>#sk-container-id-9 {color: black;background-color: white;}#sk-container-id-9 pre{padding: 0;}#sk-container-id-9 div.sk-toggleable {background-color: white;}#sk-container-id-9 label.sk-toggleable__label {cursor: pointer;display: block;width: 100%;margin-bottom: 0;padding: 0.3em;box-sizing: border-box;text-align: center;}#sk-container-id-9 label.sk-toggleable__label-arrow:before {content: \"▸\";float: left;margin-right: 0.25em;color: #696969;}#sk-container-id-9 label.sk-toggleable__label-arrow:hover:before {color: black;}#sk-container-id-9 div.sk-estimator:hover label.sk-toggleable__label-arrow:before {color: black;}#sk-container-id-9 div.sk-toggleable__content {max-height: 0;max-width: 0;overflow: hidden;text-align: left;background-color: #f0f8ff;}#sk-container-id-9 div.sk-toggleable__content pre {margin: 0.2em;color: black;border-radius: 0.25em;background-color: #f0f8ff;}#sk-container-id-9 input.sk-toggleable__control:checked~div.sk-toggleable__content {max-height: 200px;max-width: 100%;overflow: auto;}#sk-container-id-9 input.sk-toggleable__control:checked~label.sk-toggleable__label-arrow:before {content: \"▾\";}#sk-container-id-9 div.sk-estimator input.sk-toggleable__control:checked~label.sk-toggleable__label {background-color: #d4ebff;}#sk-container-id-9 div.sk-label input.sk-toggleable__control:checked~label.sk-toggleable__label {background-color: #d4ebff;}#sk-container-id-9 input.sk-hidden--visually {border: 0;clip: rect(1px 1px 1px 1px);clip: rect(1px, 1px, 1px, 1px);height: 1px;margin: -1px;overflow: hidden;padding: 0;position: absolute;width: 1px;}#sk-container-id-9 div.sk-estimator {font-family: monospace;background-color: #f0f8ff;border: 1px dotted black;border-radius: 0.25em;box-sizing: border-box;margin-bottom: 0.5em;}#sk-container-id-9 div.sk-estimator:hover {background-color: #d4ebff;}#sk-container-id-9 div.sk-parallel-item::after {content: \"\";width: 100%;border-bottom: 1px solid gray;flex-grow: 1;}#sk-container-id-9 div.sk-label:hover label.sk-toggleable__label {background-color: #d4ebff;}#sk-container-id-9 div.sk-serial::before {content: \"\";position: absolute;border-left: 1px solid gray;box-sizing: border-box;top: 0;bottom: 0;left: 50%;z-index: 0;}#sk-container-id-9 div.sk-serial {display: flex;flex-direction: column;align-items: center;background-color: white;padding-right: 0.2em;padding-left: 0.2em;position: relative;}#sk-container-id-9 div.sk-item {position: relative;z-index: 1;}#sk-container-id-9 div.sk-parallel {display: flex;align-items: stretch;justify-content: center;background-color: white;position: relative;}#sk-container-id-9 div.sk-item::before, #sk-container-id-9 div.sk-parallel-item::before {content: \"\";position: absolute;border-left: 1px solid gray;box-sizing: border-box;top: 0;bottom: 0;left: 50%;z-index: -1;}#sk-container-id-9 div.sk-parallel-item {display: flex;flex-direction: column;z-index: 1;position: relative;background-color: white;}#sk-container-id-9 div.sk-parallel-item:first-child::after {align-self: flex-end;width: 50%;}#sk-container-id-9 div.sk-parallel-item:last-child::after {align-self: flex-start;width: 50%;}#sk-container-id-9 div.sk-parallel-item:only-child::after {width: 0;}#sk-container-id-9 div.sk-dashed-wrapped {border: 1px dashed gray;margin: 0 0.4em 0.5em 0.4em;box-sizing: border-box;padding-bottom: 0.4em;background-color: white;}#sk-container-id-9 div.sk-label label {font-family: monospace;font-weight: bold;display: inline-block;line-height: 1.2em;}#sk-container-id-9 div.sk-label-container {text-align: center;}#sk-container-id-9 div.sk-container {/* jupyter's `normalize.less` sets `[hidden] { display: none; }` but bootstrap.min.css set `[hidden] { display: none !important; }` so we also need the `!important` here to be able to override the default hidden behavior on the sphinx rendered scikit-learn.org. See: https://github.com/scikit-learn/scikit-learn/issues/21755 */display: inline-block !important;position: relative;}#sk-container-id-9 div.sk-text-repr-fallback {display: none;}</style><div id=\"sk-container-id-9\" class=\"sk-top-container\"><div class=\"sk-text-repr-fallback\"><pre>DecisionTreeClassifier(criterion=&#x27;entropy&#x27;)</pre><b>In a Jupyter environment, please rerun this cell to show the HTML representation or trust the notebook. <br />On GitHub, the HTML representation is unable to render, please try loading this page with nbviewer.org.</b></div><div class=\"sk-container\" hidden><div class=\"sk-item\"><div class=\"sk-estimator sk-toggleable\"><input class=\"sk-toggleable__control sk-hidden--visually\" id=\"sk-estimator-id-9\" type=\"checkbox\" checked><label for=\"sk-estimator-id-9\" class=\"sk-toggleable__label sk-toggleable__label-arrow\">DecisionTreeClassifier</label><div class=\"sk-toggleable__content\"><pre>DecisionTreeClassifier(criterion=&#x27;entropy&#x27;)</pre></div></div></div></div></div>"
      ],
      "text/plain": [
       "DecisionTreeClassifier(criterion='entropy')"
      ]
     },
     "execution_count": 224,
     "metadata": {},
     "output_type": "execute_result"
    }
   ],
   "source": [
    "# Train the classifier on the training data\n",
    "dt_classifier.fit(X_train, y_train)"
   ]
  },
  {
   "cell_type": "markdown",
   "metadata": {},
   "source": [
    "##### **f. Prediction**"
   ]
  },
  {
   "cell_type": "code",
   "execution_count": 225,
   "metadata": {},
   "outputs": [],
   "source": [
    "# Predict the target variable on the test set\n",
    "y_pred = dt_classifier.predict(X_test)"
   ]
  },
  {
   "cell_type": "markdown",
   "metadata": {},
   "source": [
    "##### **g. Model Evaluation**"
   ]
  },
  {
   "cell_type": "code",
   "execution_count": 226,
   "metadata": {},
   "outputs": [
    {
     "name": "stdout",
     "output_type": "stream",
     "text": [
      "Accuracy: 66.67%\n"
     ]
    }
   ],
   "source": [
    "# Evaluate the model\n",
    "accuracy = metrics.accuracy_score(y_test, y_pred)\n",
    "print(f\"Accuracy: {accuracy * 100:.2f}%\")"
   ]
  },
  {
   "cell_type": "markdown",
   "metadata": {},
   "source": [
    "##### **h.Display the Decision Tree**"
   ]
  },
  {
   "cell_type": "code",
   "execution_count": 227,
   "metadata": {},
   "outputs": [
    {
     "name": "stdout",
     "output_type": "stream",
     "text": [
      "Decision Tree Rules:\n",
      "|--- Outlook <= 0.50\n",
      "|   |--- class: 0\n",
      "|--- Outlook >  0.50\n",
      "|   |--- Temperature <= 0.50\n",
      "|   |   |--- Windy <= 0.50\n",
      "|   |   |   |--- class: 0\n",
      "|   |   |--- Windy >  0.50\n",
      "|   |   |   |--- Humidity <= 0.50\n",
      "|   |   |   |   |--- class: 1\n",
      "|   |   |   |--- Humidity >  0.50\n",
      "|   |   |   |   |--- class: 0\n",
      "|   |--- Temperature >  0.50\n",
      "|   |   |--- Windy <= 0.50\n",
      "|   |   |   |--- class: 1\n",
      "|   |   |--- Windy >  0.50\n",
      "|   |   |   |--- class: 0\n",
      "\n"
     ]
    }
   ],
   "source": [
    "# Display the decision tree\n",
    "from sklearn.tree import export_text\n",
    "text_representation = export_text(dt_classifier, feature_names=list(X.columns))\n",
    "print(\"Decision Tree Rules:\")\n",
    "print(text_representation)"
   ]
  },
  {
   "cell_type": "code",
   "execution_count": 228,
   "metadata": {},
   "outputs": [
    {
     "data": {
      "image/png": "[encoded data removed]",
      "text/plain": [
       "<Figure size 500x1000 with 1 Axes>"
      ]
     },
     "metadata": {},
     "output_type": "display_data"
    }
   ],
   "source": [
    "import matplotlib.pyplot as plt\n",
    "from sklearn import tree\n",
    "fig = plt.figure(figsize=(5, 10))\n",
    "tree.plot_tree(dt_classifier, feature_names=list(X.columns), class_names=label_encoder.classes_,filled=True)\n",
    "plt.show()"
   ]
  },
  {
   "cell_type": "markdown",
   "metadata": {},
   "source": [
    "The structure of the decision tree is influenced not only by the information gain but also by the order of features considered during the tree-building process. The ID3 algorithm, and its variations like C4.5 (used by scikit-learn), typically use a heuristic to determine the order of feature selection.\n",
    "\n",
    "The decision tree-growing algorithm, in scikit-learn's implementation, selects the feature with the highest information gain or Gini impurity at each step. However, if two or more features have the same information gain, the algorithm might choose the feature that appears earlier in the dataset.\n",
    "\n",
    "In your provided JSON representation of the decision tree, it seems that 'Temperature' is chosen before 'Outlook' even though 'Outlook' has higher information gain. This ordering might be due to the specific heuristic or tie-breaking rule used in the algorithm.\n",
    "\n",
    "In practice, the decision tree's structure might vary slightly depending on the exact implementation details and the specific version of the machine learning library used. The key point is that the algorithm selects features at each step based on their information gain or Gini impurity, but when multiple features have the same score, other factors, such as the order they appear in the dataset, can influence the decision."
   ]
  },
  {
   "cell_type": "markdown",
   "metadata": {},
   "source": [
    "The structure of a decision tree is indeed influenced by both the information gain and the order of features considered during the tree-building process.\n",
    "\n",
    " - Information Gain (IG):\n",
    "     - Information gain is a crucial criterion for selecting the best feature to split the data at each node of the decision tree.\n",
    "     - It measures how much uncertainty or impurity in the target variable (e.g., classification labels) is reduced after splitting the data based on a particular feature.\n",
    "     - Features with higher information gain are preferred because they lead to more effective splits, resulting in better separation of classes.\n",
    "\n",
    " - Order of Feature Consideration:\n",
    "     - The order in which features are considered during tree-building impacts the tree’s structure.\n",
    "     - Decision trees typically use a greedy approach, meaning they select the best feature at each node based on information gain without considering future nodes.\n",
    "     - The order of feature consideration affects the tree’s depth, shape, and interpretability.\n",
    "     - Features considered early in the process may have a greater impact on the overall tree structure.\n",
    "\n",
    "In summary, while information gain guides feature selection, the order in which features are evaluated plays a role in shaping the decision tree. It’s essential to strike a balance between maximizing information gain and maintaining a manageable tree size"
   ]
  }
 ],
 "metadata": {
  "kernelspec": {
   "display_name": "ml",
   "language": "python",
   "name": "python3"
  },
  "language_info": {
   "codemirror_mode": {
    "name": "ipython",
    "version": 3
   },
   "file_extension": ".py",
   "mimetype": "text/x-python",
   "name": "python",
   "nbconvert_exporter": "python",
   "pygments_lexer": "ipython3",
   "version": "3.8.12"
  }
 },
 "nbformat": 4,
 "nbformat_minor": 2
}
